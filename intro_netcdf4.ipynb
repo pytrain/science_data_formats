{
 "cells": [
  {
   "cell_type": "markdown",
   "metadata": {},
   "source": [
    "![NASA](http://www.nasa.gov/sites/all/themes/custom/nasatwo/images/nasa-logo.svg)\n",
    "\n",
    "<center>\n",
    "<h1><font size=\"+3\">GSFC Python Bootcamp</font></h1>\n",
    "</center>\n",
    "\n",
    "---\n",
    "\n",
    "<CENTER>\n",
    "<H1 style=\"color:red\">\n",
    "An Introduction to netCDF4\n",
    "</H1>\n",
    "</CENTER>"
   ]
  },
  {
   "cell_type": "code",
   "execution_count": null,
   "metadata": {},
   "outputs": [],
   "source": [
    "from __future__ import print_function"
   ]
  },
  {
   "cell_type": "markdown",
   "metadata": {},
   "source": [
    "# <font color='red'> Useful References </font>"
   ]
  },
  {
   "cell_type": "markdown",
   "metadata": {},
   "source": [
    "* <A HREF=\"http://pyhogs.github.io/intro_netcdf4.html\">Create and read netCDF files</A>\n",
    "* <A HREF=\"https://unidata.github.io/netcdf4-python/netCDF4/index.html\">netCDF4 module</A>"
   ]
  },
  {
   "cell_type": "markdown",
   "metadata": {},
   "source": [
    "## <font color=\"red\"> What we will cover </font>\n",
    "* Opening a file\n",
    "* Dimension\n",
    "* Variables\n",
    "* Attributes\n",
    "* Writing data\n",
    "* Creating groups\n",
    "* Reading data"
   ]
  },
  {
   "cell_type": "markdown",
   "metadata": {},
   "source": [
    "## <font color='red'> What is netCDF4?</font>\n",
    "\n",
    "* Python interface to the netCDF version 4 library.\n",
    "* Can read and write files in both the new netCDF 4 and the netCDF 3 format.\n",
    "* Can create files that are readable by HDF5 utilities.\n",
    "* Relies on NumPy arrays."
   ]
  },
  {
   "cell_type": "code",
   "execution_count": null,
   "metadata": {},
   "outputs": [],
   "source": [
    "import numpy as np\n",
    "from netCDF4 import Dataset"
   ]
  },
  {
   "cell_type": "markdown",
   "metadata": {},
   "source": [
    "#### <font color='red'> Opening a netCDF File</font>"
   ]
  },
  {
   "cell_type": "code",
   "execution_count": null,
   "metadata": {},
   "outputs": [],
   "source": [
    "ncFileName = 'sample_netcdf.nc4'\n",
    "modeType   = 'w'\n",
    "fileFormat = 'NETCDF4'\n",
    "ncfid = Dataset(ncFileName, mode=modeType, format=fileFormat)"
   ]
  },
  {
   "cell_type": "markdown",
   "metadata": {},
   "source": [
    "* `modeType`: 'w' (write), 'r+' (read and write with an existing file), 'r' (read), or 'a' (append)\n",
    "* `fileFormat`: 'NETCDF3_CLASSIC', 'NETCDF3_64BIT_OFFSET', 'NETCDF4_CLASSIC', 'NETCDF4', 'NETCDF3_64BIT_DATA'"
   ]
  },
  {
   "cell_type": "markdown",
   "metadata": {},
   "source": [
    "#### <font color='red'> Creating Dimensions in a netCDF File</font>"
   ]
  },
  {
   "cell_type": "code",
   "execution_count": null,
   "metadata": {},
   "outputs": [],
   "source": [
    "time = ncfid.createDimension('time', None) # infinite dimension\n",
    "lev  = ncfid.createDimension('lev', 72)\n",
    "lat  = ncfid.createDimension('lat', 91)\n",
    "lon  = ncfid.createDimension('lon', 144)"
   ]
  },
  {
   "cell_type": "markdown",
   "metadata": {},
   "source": [
    "#### <font color='red'>Create Variables</font>"
   ]
  },
  {
   "cell_type": "code",
   "execution_count": null,
   "metadata": {},
   "outputs": [],
   "source": [
    "times      = ncfid.createVariable('time','f8',('time',))\n",
    "levels     = ncfid.createVariable('lev','i4',('lev',))\n",
    "latitudes  = ncfid.createVariable('lat','f4',('lat',))\n",
    "longitudes = ncfid.createVariable('lon','f4',('lon',))\n",
    "\n",
    "temp       = ncfid.createVariable('temp','f4', \\\n",
    "                                  ('time','lev','lat','lon',))"
   ]
  },
  {
   "cell_type": "markdown",
   "metadata": {},
   "source": [
    "#### <font color='red'>Adding Variable Attributes</font>"
   ]
  },
  {
   "cell_type": "code",
   "execution_count": null,
   "metadata": {},
   "outputs": [],
   "source": [
    "latitudes.long_name  = 'latitude'\n",
    "latitudes.units      = 'degrees north'\n",
    "\n",
    "longitudes.long_name = 'longitude'\n",
    "longitudes.units     = 'degrees east'\n",
    "\n",
    "levels.long_name     = 'vertical levels'\n",
    "levels.units         = 'hPa'\n",
    "levels.positive       = 'down'\n",
    "\n",
    "times.long_name      = 'time'\n",
    "times.units          = 'hours since 0001-01-01 00:00:00.0'\n",
    "times.calendar       = 'gregorian'\n",
    "\n",
    "temp.long_name       = 'temperature'\n",
    "temp.units           = 'K'\n",
    "temp.missing_value   = 1.0e15"
   ]
  },
  {
   "cell_type": "markdown",
   "metadata": {},
   "source": [
    "#### <font color='red'>Adding Global Attributes</font>"
   ]
  },
  {
   "cell_type": "code",
   "execution_count": null,
   "metadata": {},
   "outputs": [],
   "source": [
    "import time\n",
    "ncfid.description = 'Sample netCDF file'\n",
    "ncfid.history = 'Created for GSFC on' + time.ctime(time.time())\n",
    "ncfid.source = 'netCDF4 python tutorial'"
   ]
  },
  {
   "cell_type": "markdown",
   "metadata": {},
   "source": [
    "#### <font color='red'>Writing Data in the File</font>"
   ]
  },
  {
   "cell_type": "code",
   "execution_count": null,
   "metadata": {},
   "outputs": [],
   "source": [
    "latitudes[:]  =  np.arange(-90,91,2.0)\n",
    "longitudes[:] =  np.arange(-180,180,2.5)\n",
    "levels[:]     =  np.arange(0,72,1)\n",
    "\n",
    "num_records   = 5\n",
    "temp[0:num_records,:,:,:] = np.random.uniform( size=(num_records,\n",
    "                                                     levels.size,\n",
    "                                                     latitudes.size,\n",
    "                                                     longitudes.size))"
   ]
  },
  {
   "cell_type": "markdown",
   "metadata": {},
   "source": [
    "#### <font color='red'>Printing Dimension Information</font>"
   ]
  },
  {
   "cell_type": "code",
   "execution_count": null,
   "metadata": {},
   "outputs": [],
   "source": [
    "for dim in ncfid.dimensions.values():\n",
    "     print(dim, dim.isunlimited())"
   ]
  },
  {
   "cell_type": "code",
   "execution_count": null,
   "metadata": {},
   "outputs": [],
   "source": [
    "for name in ncfid.dimensions.keys():\n",
    "    dim = ncfid.variables[name]\n",
    "    print(name, dim.dtype, dim.size)"
   ]
  },
  {
   "cell_type": "markdown",
   "metadata": {},
   "source": [
    "#### <font color='red'>Printing File Attributes</font>"
   ]
  },
  {
   "cell_type": "code",
   "execution_count": null,
   "metadata": {},
   "outputs": [],
   "source": [
    "for att in ncfid.ncattrs():\n",
    "    print(att+':', getattr(ncfid,att))"
   ]
  },
  {
   "cell_type": "code",
   "execution_count": null,
   "metadata": {},
   "outputs": [],
   "source": [
    "print(ncfid.__dict__)"
   ]
  },
  {
   "cell_type": "markdown",
   "metadata": {},
   "source": [
    "#### <font color='red'>Printing Variable Information</font>"
   ]
  },
  {
   "cell_type": "code",
   "execution_count": null,
   "metadata": {},
   "outputs": [],
   "source": [
    "for name in ncfid.variables.keys():\n",
    "    if (name not in ncfid.dimensions.keys()):\n",
    "       data = ncfid.variables[name]\n",
    "       print(name, data.units, data.shape, data.dtype, data.dimensions)"
   ]
  },
  {
   "cell_type": "code",
   "execution_count": null,
   "metadata": {},
   "outputs": [],
   "source": [
    "    def print_ncattr(ncfid, key):\n",
    "        \"\"\"\n",
    "           Prints the NetCDF file attributes for a given key\n",
    "\n",
    "           Parameters: \n",
    "             * ncfid:  netCDF file identifier\n",
    "             * key:    unicode (a valid netCDF4.Dataset.variables key)\n",
    "        \"\"\"\n",
    "        try:\n",
    "            print(key, '-->')\n",
    "            print(\"\\t\\ttype:\", repr(ncfid.variables[key].dtype))\n",
    "            for ncattr in ncfid.variables[key].ncattrs():\n",
    "                print('\\t\\t%s:' % ncattr,\\\n",
    "                      repr(ncfid.variables[key].getncattr(ncattr)))\n",
    "        except KeyError:\n",
    "            print(\"\\t\\tWARNING: %s does not contain variable attributes\" % key)"
   ]
  },
  {
   "cell_type": "code",
   "execution_count": null,
   "metadata": {},
   "outputs": [],
   "source": [
    "print(print_ncattr.__doc__)"
   ]
  },
  {
   "cell_type": "code",
   "execution_count": null,
   "metadata": {},
   "outputs": [],
   "source": [
    "for name in ncfid.variables.keys():\n",
    "    print_ncattr(ncfid, name)"
   ]
  },
  {
   "cell_type": "markdown",
   "metadata": {},
   "source": [
    "#### <font color='red'>Create Groups</font>\n",
    "* We can organize data in hierarchical groups, which are analogous to directories in a filesystem. \n",
    "* Groups serve as containers for variables, dimensions and attributes, as well as other groups."
   ]
  },
  {
   "cell_type": "code",
   "execution_count": null,
   "metadata": {},
   "outputs": [],
   "source": [
    "fcstgrp  = ncfid.createGroup('forecasts')\n",
    "fcstgrpm = ncfid.createGroup('forecasts/model')"
   ]
  },
  {
   "cell_type": "code",
   "execution_count": null,
   "metadata": {},
   "outputs": [],
   "source": [
    "print(ncfid.groups)"
   ]
  },
  {
   "cell_type": "code",
   "execution_count": null,
   "metadata": {},
   "outputs": [],
   "source": [
    "def walk_group_tree(top):\n",
    "    \"\"\"\n",
    "       Python generator that is used to walk the directory tree.\n",
    "    \"\"\"\n",
    "    values = top.groups.values()\n",
    "    yield values\n",
    "    for value in top.groups.values():\n",
    "        for children in walk_group_tree(value):\n",
    "            yield children"
   ]
  },
  {
   "cell_type": "code",
   "execution_count": null,
   "metadata": {},
   "outputs": [],
   "source": [
    "for children in walk_group_tree(ncfid):\n",
    "    for child in children:\n",
    "        print(child)"
   ]
  },
  {
   "cell_type": "markdown",
   "metadata": {},
   "source": [
    "##### Add variable to a group"
   ]
  },
  {
   "cell_type": "code",
   "execution_count": null,
   "metadata": {},
   "outputs": [],
   "source": [
    "tempm = ncfid.createVariable('forecasts/model/temp','f4', \\\n",
    "                                  ('time','lev','lat','lon',))\n",
    "\n",
    "tempm.long_name       = 'temperature (model)'\n",
    "tempm.units           = 'K'\n",
    "tempm.missing_value   = 1.0e15\n",
    "\n",
    "tempm[0:num_records,:,:,:] = np.random.uniform(size=(num_records,\n",
    "                                                     levels.size,\n",
    "                                                     latitudes.size,\n",
    "                                                     longitudes.size))"
   ]
  },
  {
   "cell_type": "code",
   "execution_count": null,
   "metadata": {},
   "outputs": [],
   "source": [
    "print(ncfid[\"forecasts/model\"])"
   ]
  },
  {
   "cell_type": "code",
   "execution_count": null,
   "metadata": {},
   "outputs": [],
   "source": [
    "print(ncfid[\"forecasts/model/temp\"])"
   ]
  },
  {
   "cell_type": "markdown",
   "metadata": {},
   "source": [
    "#### <font color='red'>Close the file</font>"
   ]
  },
  {
   "cell_type": "code",
   "execution_count": null,
   "metadata": {},
   "outputs": [],
   "source": [
    "ncfid.close()"
   ]
  },
  {
   "cell_type": "markdown",
   "metadata": {},
   "source": [
    "### <font color='red'>Reading a netCDF File</font>"
   ]
  },
  {
   "cell_type": "code",
   "execution_count": null,
   "metadata": {},
   "outputs": [],
   "source": [
    "with Dataset(ncFileName, mode='r') as ncfid:\n",
    "     time   = ncfid.variables['time'][:]\n",
    "     lev    = ncfid.variables['lev'][:]\n",
    "     lat    = ncfid.variables['lat'][:]\n",
    "     lon    = ncfid.variables['lon'][:]\n",
    "     temp   = ncfid.variables['temp'][:]\n",
    "     grpid1 = ncfid.groups['forecasts']\n",
    "     grpid2 = grpid1.groups['model']\n",
    "     tempm  = grpid2.variables['temp'][:]                     "
   ]
  },
  {
   "cell_type": "code",
   "execution_count": null,
   "metadata": {},
   "outputs": [],
   "source": [
    "print(lon)"
   ]
  },
  {
   "cell_type": "code",
   "execution_count": null,
   "metadata": {},
   "outputs": [],
   "source": [
    "print(lat)"
   ]
  },
  {
   "cell_type": "code",
   "execution_count": null,
   "metadata": {},
   "outputs": [],
   "source": [
    "print(temp.shape)\n",
    "print(np.min(temp), np.max(temp))"
   ]
  },
  {
   "cell_type": "code",
   "execution_count": null,
   "metadata": {},
   "outputs": [],
   "source": [
    "print(tempm.shape)\n",
    "print(np.min(tempm), np.max(tempm))"
   ]
  },
  {
   "cell_type": "markdown",
   "metadata": {},
   "source": [
    "### <font color='red'>Updating a Variable in an Existing netCDF File</font>"
   ]
  },
  {
   "cell_type": "code",
   "execution_count": null,
   "metadata": {},
   "outputs": [],
   "source": [
    "with Dataset(ncFileName, mode='a') as ncfid:\n",
    "     temp = ncfid.variables['temp'][:]\n",
    "     data = temp[:]\n",
    "     data = 1.1*data + 100.0\n",
    "     temp[:] = data"
   ]
  },
  {
   "cell_type": "code",
   "execution_count": null,
   "metadata": {},
   "outputs": [],
   "source": [
    "print(temp.shape)\n",
    "print(np.min(temp), np.max(temp))"
   ]
  }
 ],
 "metadata": {
  "anaconda-cloud": {},
  "kernelspec": {
   "display_name": "Python 3",
   "language": "python",
   "name": "python3"
  },
  "language_info": {
   "codemirror_mode": {
    "name": "ipython",
    "version": 3
   },
   "file_extension": ".py",
   "mimetype": "text/x-python",
   "name": "python",
   "nbconvert_exporter": "python",
   "pygments_lexer": "ipython3",
   "version": "3.7.3"
  }
 },
 "nbformat": 4,
 "nbformat_minor": 1
}
